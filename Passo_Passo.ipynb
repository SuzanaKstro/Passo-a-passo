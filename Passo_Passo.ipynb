{
  "nbformat": 4,
  "nbformat_minor": 0,
  "metadata": {
    "colab": {
      "provenance": [],
      "mount_file_id": "1TMl3r5u9OKOzy-bwqwgRsPY2O0jMrV3t",
      "authorship_tag": "ABX9TyMDyxcJVNYRzfLwm4Qv6KVm",
      "include_colab_link": true
    },
    "kernelspec": {
      "name": "python3",
      "display_name": "Python 3"
    },
    "language_info": {
      "name": "python"
    }
  },
  "cells": [
    {
      "cell_type": "markdown",
      "metadata": {
        "id": "view-in-github",
        "colab_type": "text"
      },
      "source": [
        "<a href=\"https://colab.research.google.com/github/SuzanaKstro/Passo-a-passo/blob/main/Passo_Passo.ipynb\" target=\"_parent\"><img src=\"https://colab.research.google.com/assets/colab-badge.svg\" alt=\"Open In Colab\"/></a>"
      ]
    },
    {
      "cell_type": "code",
      "source": [
        "import pandas as pd"
      ],
      "metadata": {
        "id": "zWdniIw_lP4v"
      },
      "execution_count": 3,
      "outputs": []
    },
    {
      "cell_type": "code",
      "source": [
        "# baixar as bibliotecas\n",
        "!pip install numpy pandas requests inflection seaborn scipy matplotlib IPython scikit-learn statsmodels pmdarima tqdm statsforecast"
      ],
      "metadata": {
        "id": "f4YK_TUdjBz8"
      },
      "execution_count": null,
      "outputs": []
    },
    {
      "cell_type": "code",
      "execution_count": null,
      "metadata": {
        "id": "TGY3tJj6bpap"
      },
      "outputs": [],
      "source": [
        "# Captura e Preparação dos Dados\n",
        "df = pd.read_csv('/content/Dados Históricos - Ibovespa (2).csv')\n"
      ]
    },
    {
      "cell_type": "code",
      "source": [
        "df.head()"
      ],
      "metadata": {
        "id": "Wxle5aO3li1I"
      },
      "execution_count": null,
      "outputs": []
    },
    {
      "cell_type": "code",
      "source": [
        "# Verificar as linhas e colunas do df\n",
        "df.shape()"
      ],
      "metadata": {
        "id": "xgNVnIKbjsET"
      },
      "execution_count": null,
      "outputs": []
    },
    {
      "cell_type": "code",
      "source": [
        "# Ajustar os dados do df IBOV ( retirar os caracteres de texto das colunas Vol e Var)\n",
        "df['Data'] = pd.to_datetime(df['Data'], format=\"%d.%m.%Y\")\n",
        "df['Vol.'] = df['Vol.'].astype(str)\n",
        "df['Vol.'] = df['Vol.'].str.replace('M','').str.replace(',','.').str.replace('K','').astype(float)\n",
        "df['Var%'] = df['Var%'].str.replace('%','').str.replace(',','.').astype(float)\n"
      ],
      "metadata": {
        "id": "yl0qK88ZjrNA"
      },
      "execution_count": null,
      "outputs": []
    },
    {
      "cell_type": "code",
      "source": [
        "df.dtypes"
      ],
      "metadata": {
        "id": "uiGIS2wFlzD-"
      },
      "execution_count": null,
      "outputs": []
    },
    {
      "cell_type": "code",
      "source": [],
      "metadata": {
        "id": "GRznNFfHlwrj"
      },
      "execution_count": null,
      "outputs": []
    },
    {
      "cell_type": "code",
      "source": [
        "import matplotlib.pyplot as plt\n",
        "import seaborn as sns"
      ],
      "metadata": {
        "id": "cDDxygfpmTKQ"
      },
      "execution_count": null,
      "outputs": []
    },
    {
      "cell_type": "code",
      "source": [
        "# Checar os valores nulos\n",
        "df.isna().sum()"
      ],
      "metadata": {
        "id": "G65BjHH7jsOx"
      },
      "execution_count": null,
      "outputs": []
    },
    {
      "cell_type": "code",
      "source": [
        "# Visualize os dados da série\n",
        "plt.figure(figsize=(10,6))\n",
        "plt.plot(df['Data'], df['Último'])\n",
        "plt.title('Fechamento Diário da IBOVESPA')\n",
        "plt.xlabel('Data')\n",
        "plt.ylabel('Fechamento')\n",
        "plt.grid(True)\n",
        "plt.show()"
      ],
      "metadata": {
        "id": "9tKsazaxjsmL"
      },
      "execution_count": null,
      "outputs": []
    },
    {
      "cell_type": "code",
      "source": [
        "# Dados Estatístico da base\n",
        "df.describe()\n"
      ],
      "metadata": {
        "id": "htBqh3xwjsat"
      },
      "execution_count": null,
      "outputs": []
    },
    {
      "cell_type": "code",
      "source": [
        "# identificar se a data é estacionária (Dickey-Fuller)\n",
        "from statsmodels.tsa.stattools import adfuller\n",
        "result = adfuller(df['Último'])\n",
        "print('ADF Statistic:', result[0])\n",
        "print('p-value:', result[1])\n"
      ],
      "metadata": {
        "id": "oQSF6qbYjsyr"
      },
      "execution_count": null,
      "outputs": []
    },
    {
      "cell_type": "code",
      "source": [
        "# Se o P Value <= 0.05 (5%) , então rejeitamos a hipótese Nula, com nível de confiança de 95%\n",
        "\n",
        "# H0 - Hipótese Nula ( Série não é estacionária)\n",
        "# H1 - Hipótese Alternativa ( Série é estacionária)"
      ],
      "metadata": {
        "id": "DtjnELyRmUpA"
      },
      "execution_count": null,
      "outputs": []
    },
    {
      "cell_type": "code",
      "source": [
        "# Plote os graficos de correlação e autocorrelação\n",
        "plt.figure(figsize=(12,6))\n",
        "correlation = df.corr()\n",
        "sns.heatmap( correlation, annot=True, fmt='.2f' )\n",
        "plt.title('Matriz de Correlação')\n",
        "plt.show()\n"
      ],
      "metadata": {
        "colab": {
          "base_uri": "https://localhost:8080/",
          "height": 211
        },
        "id": "yhiEwP3Ij2iJ",
        "outputId": "96f7a15a-cc5b-4f3f-a895-84124a51fd92"
      },
      "execution_count": 4,
      "outputs": [
        {
          "output_type": "error",
          "ename": "NameError",
          "evalue": "name 'plt' is not defined",
          "traceback": [
            "\u001b[0;31m---------------------------------------------------------------------------\u001b[0m",
            "\u001b[0;31mNameError\u001b[0m                                 Traceback (most recent call last)",
            "\u001b[0;32m<ipython-input-4-bb420ce46718>\u001b[0m in \u001b[0;36m<cell line: 2>\u001b[0;34m()\u001b[0m\n\u001b[1;32m      1\u001b[0m \u001b[0;31m# Plote os graficos de correlação e autocorrelação\u001b[0m\u001b[0;34m\u001b[0m\u001b[0;34m\u001b[0m\u001b[0m\n\u001b[0;32m----> 2\u001b[0;31m \u001b[0mplt\u001b[0m\u001b[0;34m.\u001b[0m\u001b[0mfigure\u001b[0m\u001b[0;34m(\u001b[0m\u001b[0mfigsize\u001b[0m\u001b[0;34m=\u001b[0m\u001b[0;34m(\u001b[0m\u001b[0;36m12\u001b[0m\u001b[0;34m,\u001b[0m\u001b[0;36m6\u001b[0m\u001b[0;34m)\u001b[0m\u001b[0;34m)\u001b[0m\u001b[0;34m\u001b[0m\u001b[0;34m\u001b[0m\u001b[0m\n\u001b[0m\u001b[1;32m      3\u001b[0m \u001b[0mcorrelation\u001b[0m \u001b[0;34m=\u001b[0m \u001b[0mdf\u001b[0m\u001b[0;34m.\u001b[0m\u001b[0mcorr\u001b[0m\u001b[0;34m(\u001b[0m\u001b[0;34m)\u001b[0m\u001b[0;34m\u001b[0m\u001b[0;34m\u001b[0m\u001b[0m\n\u001b[1;32m      4\u001b[0m \u001b[0msns\u001b[0m\u001b[0;34m.\u001b[0m\u001b[0mheatmap\u001b[0m\u001b[0;34m(\u001b[0m \u001b[0mcorrelation\u001b[0m\u001b[0;34m,\u001b[0m \u001b[0mannot\u001b[0m\u001b[0;34m=\u001b[0m\u001b[0;32mTrue\u001b[0m\u001b[0;34m,\u001b[0m \u001b[0mfmt\u001b[0m\u001b[0;34m=\u001b[0m\u001b[0;34m'.2f'\u001b[0m \u001b[0;34m)\u001b[0m\u001b[0;34m\u001b[0m\u001b[0;34m\u001b[0m\u001b[0m\n\u001b[1;32m      5\u001b[0m \u001b[0mplt\u001b[0m\u001b[0;34m.\u001b[0m\u001b[0mtitle\u001b[0m\u001b[0;34m(\u001b[0m\u001b[0;34m'Matriz de Correlação'\u001b[0m\u001b[0;34m)\u001b[0m\u001b[0;34m\u001b[0m\u001b[0;34m\u001b[0m\u001b[0m\n",
            "\u001b[0;31mNameError\u001b[0m: name 'plt' is not defined"
          ]
        }
      ]
    },
    {
      "cell_type": "code",
      "source": [
        "import pandas as pd\n",
        "import numpy as np\n",
        "import matplotlib.pyplot as plt\n",
        "from statsmodels.graphics.tsaplots import plot_acf"
      ],
      "metadata": {
        "id": "8R2e7X_Z5TEk"
      },
      "execution_count": null,
      "outputs": []
    },
    {
      "cell_type": "code",
      "source": [
        "seasonality = 10 * np.sin(np.linspace(0, 3.14*2, 60))"
      ],
      "metadata": {
        "id": "ilGqDT7a5f4_"
      },
      "execution_count": null,
      "outputs": []
    },
    {
      "cell_type": "code",
      "source": [
        "noise = np.random.normal(0, 5, 60)\n",
        "data = trend + seasonality + noise\n",
        "df = pd.DataFrame(data, columns=['Data'], index=time)"
      ],
      "metadata": {
        "id": "4lPg4o0e5mph"
      },
      "execution_count": null,
      "outputs": []
    },
    {
      "cell_type": "code",
      "source": [
        "plt.figure(figsize=(10, 6))\n",
        "plot_acf(df['Data'], lags=20)\n",
        "plt.title('Gráfico de Autocorrelação (ACF)')\n",
        "plt.show()"
      ],
      "metadata": {
        "id": "jRxH3OhY5njh"
      },
      "execution_count": null,
      "outputs": []
    },
    {
      "cell_type": "code",
      "source": [],
      "metadata": {
        "id": "FbqLUva35tJU"
      },
      "execution_count": null,
      "outputs": []
    },
    {
      "cell_type": "code",
      "source": [
        "# Contrua o modelo Arima com base nos dados"
      ],
      "metadata": {
        "id": "ujpKtkrZj3m1"
      },
      "execution_count": null,
      "outputs": []
    },
    {
      "cell_type": "code",
      "source": [
        "# Acurácia dos dados\n"
      ],
      "metadata": {
        "id": "jsXUNPH4j4Ip"
      },
      "execution_count": null,
      "outputs": []
    }
  ]
}
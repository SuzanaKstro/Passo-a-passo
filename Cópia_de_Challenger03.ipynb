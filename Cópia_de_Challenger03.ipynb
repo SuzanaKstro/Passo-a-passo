{
  "nbformat": 4,
  "nbformat_minor": 0,
  "metadata": {
    "colab": {
      "provenance": [],
      "authorship_tag": "ABX9TyOQF9LG2eoTEP54pCZ8BQoX",
      "include_colab_link": true
    },
    "kernelspec": {
      "name": "python3",
      "display_name": "Python 3"
    },
    "language_info": {
      "name": "python"
    }
  },
  "cells": [
    {
      "cell_type": "markdown",
      "metadata": {
        "id": "view-in-github",
        "colab_type": "text"
      },
      "source": [
        "<a href=\"https://colab.research.google.com/github/SuzanaKstro/Passo-a-passo/blob/main/C%C3%B3pia_de_Challenger03.ipynb\" target=\"_parent\"><img src=\"https://colab.research.google.com/assets/colab-badge.svg\" alt=\"Open In Colab\"/></a>"
      ]
    },
    {
      "cell_type": "code",
      "execution_count": null,
      "metadata": {
        "colab": {
          "base_uri": "https://localhost:8080/"
        },
        "id": "wi7wGANupLea",
        "outputId": "9070eded-d773-404c-b151-8358f8c286d2"
      },
      "outputs": [
        {
          "output_type": "stream",
          "name": "stdout",
          "text": [
            "Requirement already satisfied: pyspark in /usr/local/lib/python3.11/dist-packages (3.5.5)\n",
            "Requirement already satisfied: py4j==0.10.9.7 in /usr/local/lib/python3.11/dist-packages (from pyspark) (0.10.9.7)\n",
            "Collecting findspark\n",
            "  Downloading findspark-2.0.1-py2.py3-none-any.whl.metadata (352 bytes)\n",
            "Downloading findspark-2.0.1-py2.py3-none-any.whl (4.4 kB)\n",
            "Installing collected packages: findspark\n",
            "Successfully installed findspark-2.0.1\n"
          ]
        }
      ],
      "source": [
        "!pip install pyspark\n",
        "!pip install findspark"
      ]
    },
    {
      "cell_type": "code",
      "source": [
        "from pyspark.sql import SparkSession\n",
        "from pyspark.sql import functions as F\n",
        "from pyspark.sql.types import StructType, StructField, IntegerType, StringType\n",
        "spark = SparkSession.builder.master(\"local[*]\").getOrCreate()"
      ],
      "metadata": {
        "id": "qhBqktq0pZLi"
      },
      "execution_count": null,
      "outputs": []
    },
    {
      "cell_type": "code",
      "source": [
        "df = spark.read.option(\"header\", \"true\").option(\"inferSchema\", \"true\").csv(\"/content/PNAD_COVID_092020.csv\")\n"
      ],
      "metadata": {
        "id": "H5Zjw_mjsmNr"
      },
      "execution_count": null,
      "outputs": []
    },
    {
      "cell_type": "code",
      "source": [
        "def renomear_colunas(df):\n",
        "    df = df.withColumnRenamed(\"V1013\", \"nr_mes\") \\\n",
        "        .withColumnRenamed(\"B0011\", \"teve_febre\") \\\n",
        "        .withColumnRenamed(\"B0012\", \"teve_tosse\") \\\n",
        "        .withColumnRenamed(\"B0013\", \"teve_garganta\") \\\n",
        "        .withColumnRenamed(\"B0014\", \"teve_dif_respirar\") \\\n",
        "        .withColumnRenamed(\"B00111\", \"teve_perda_olfato_paladar\") \\\n",
        "        .withColumnRenamed(\"B011\", \"medida_contato\") \\\n",
        "        .withColumnRenamed(\"B005\", \"ficou_internado\") \\\n",
        "        .withColumnRenamed(\"A002\", \"nr_idade\") \\\n",
        "        .withColumnRenamed(\"A003\", \"nm_sexo\") \\\n",
        "        .withColumnRenamed(\"A004\", \"nm_raca\") \\\n",
        "        .withColumnRenamed(\"B002\", \"procurou_Unidade_saude\") \\\n",
        "        .withColumnRenamed(\"B008\", \"fez_teste_covid\") \\\n",
        "        .withColumnRenamed(\"V1023\", \"tipo_area\") \\\n",
        "        .withColumnRenamed(\"F002A5\", \"itens_higiene\") \\\n",
        "        .withColumnRenamed(\"D0051\", \"recebeu_auxilio_emergencial\") \\\n",
        "        .withColumnRenamed(\"E001\", \"solicitou_emprestimo\") \\\n",
        "        .withColumnRenamed(\"A005\", \"nm_escolaridade\") \\\n",
        "        .withColumnRenamed(\"C007C\", \"ocupacao_princial\") \\\n",
        "        .withColumnRenamed(\"C007\", \"esta_empregado\") \\\n",
        "        .withColumnRenamed(\"UF\", \"id_uf\") \\\n",
        "        .withColumnRenamed(\"B009B\", \"positivo_swab\") \\\n",
        "        .withColumnRenamed(\"B009D\", \"positivo_furo\") \\\n",
        "        .withColumnRenamed(\"B009F\", \"positivo_braco\")\n",
        "    return df\n",
        "\n",
        "def remover_colunas(df):\n",
        "    colunas_para_manter = [\n",
        "        \"teve_febre\",\n",
        "        \"teve_tosse\",\n",
        "        \"teve_garganta\",\n",
        "        \"teve_dif_respirar\",\n",
        "        \"teve_perda_olfato_paladar\",\n",
        "        \"medida_contato\",\n",
        "        \"ficou_internado\",\n",
        "        \"nr_idade\",\n",
        "        \"nm_sexo\",\n",
        "        \"nm_raca\",\n",
        "        \"procurou_Unidade_saude\",\n",
        "        \"fez_teste_covid\",\n",
        "        \"tipo_area\",\n",
        "        \"itens_higiene\",\n",
        "        \"recebeu_auxilio_emergencial\",\n",
        "        \"solicitou_emprestimo\",\n",
        "        \"nm_escolaridade\",\n",
        "        \"ocupacao_princial\",\n",
        "        \"esta_empregado\",\n",
        "        \"id_uf\",\n",
        "        \"positivo_swab\",\n",
        "        \"positivo_furo\",\n",
        "        \"positivo_braco\"\n",
        "    ]\n",
        "    df_reduzido = df.select(*colunas_para_manter)\n",
        "    return df_reduzido\n",
        "\n",
        "\n",
        "df = renomear_colunas(df)\n",
        "\n",
        "\n",
        "df_reduzido = remover_colunas(df)\n",
        "\n",
        "\n",
        "df_reduzido.show()\n"
      ],
      "metadata": {
        "colab": {
          "base_uri": "https://localhost:8080/"
        },
        "id": "s-tEiqXXugfK",
        "outputId": "d24a18e9-b4fb-48ad-bd1c-5aca85c98184"
      },
      "execution_count": null,
      "outputs": [
        {
          "output_type": "stream",
          "name": "stdout",
          "text": [
            "+----------+----------+-------------+-----------------+-------------------------+--------------+---------------+--------+-------+-------+----------------------+---------------+---------+-------------+---------------------------+--------------------+---------------+-----------------+--------------+-----+-------------+-------------+--------------+\n",
            "|teve_febre|teve_tosse|teve_garganta|teve_dif_respirar|teve_perda_olfato_paladar|medida_contato|ficou_internado|nr_idade|nm_sexo|nm_raca|procurou_Unidade_saude|fez_teste_covid|tipo_area|itens_higiene|recebeu_auxilio_emergencial|solicitou_emprestimo|nm_escolaridade|ocupacao_princial|esta_empregado|id_uf|positivo_swab|positivo_furo|positivo_braco|\n",
            "+----------+----------+-------------+-----------------+-------------------------+--------------+---------------+--------+-------+-------+----------------------+---------------+---------+-------------+---------------------------+--------------------+---------------+-----------------+--------------+-----+-------------+-------------+--------------+\n",
            "|         2|         2|            2|                2|                        2|             2|           NULL|      36|      1|      4|                  NULL|              2|        1|            1|                          1|                   3|              5|               35|             4|   11|         NULL|         NULL|          NULL|\n",
            "|         2|         2|            2|                2|                        2|             2|           NULL|      30|      2|      4|                  NULL|              2|        1|            1|                          1|                   3|              7|               27|             7|   11|         NULL|         NULL|          NULL|\n",
            "|         2|         2|            2|                2|                        2|             4|           NULL|      13|      1|      4|                  NULL|              2|        1|            1|                          1|                   3|              2|             NULL|          NULL|   11|         NULL|         NULL|          NULL|\n",
            "|         2|         2|            2|                2|                        2|             4|           NULL|      11|      1|      4|                  NULL|              2|        1|            1|                          1|                   3|              2|             NULL|          NULL|   11|         NULL|         NULL|          NULL|\n",
            "|         2|         2|            2|                2|                        2|             2|           NULL|      57|      2|      1|                  NULL|              2|        1|            1|                          2|                   3|              2|             NULL|          NULL|   11|         NULL|         NULL|          NULL|\n",
            "|         2|         2|            2|                2|                        2|             3|           NULL|      58|      2|      2|                  NULL|              2|        1|            1|                          2|                   3|              1|               36|             7|   11|         NULL|         NULL|          NULL|\n",
            "|         2|         2|            2|                2|                        2|             2|           NULL|      47|      1|      4|                  NULL|              2|        1|            1|                          1|                   3|              2|               18|             7|   11|         NULL|         NULL|          NULL|\n",
            "|         2|         2|            2|                2|                        2|             3|           NULL|      18|      2|      4|                  NULL|              2|        1|            1|                          1|                   3|              2|             NULL|          NULL|   11|         NULL|         NULL|          NULL|\n",
            "|         2|         2|            2|                2|                        2|             4|           NULL|      11|      1|      4|                  NULL|              2|        1|            1|                          1|                   3|              2|             NULL|          NULL|   11|         NULL|         NULL|          NULL|\n",
            "|         2|         2|            2|                2|                        2|             4|           NULL|       9|      2|      4|                  NULL|              2|        1|            1|                          1|                   3|              2|             NULL|          NULL|   11|         NULL|         NULL|          NULL|\n",
            "|         2|         2|            2|                2|                        2|             4|           NULL|      10|      1|      4|                  NULL|              2|        1|            1|                          1|                   3|              2|             NULL|          NULL|   11|         NULL|         NULL|          NULL|\n",
            "|         2|         2|            2|                2|                        2|             2|           NULL|      26|      1|      4|                  NULL|              2|        1|            1|                          1|                   3|              5|               12|             7|   11|         NULL|         NULL|          NULL|\n",
            "|         2|         2|            2|                2|                        2|             4|           NULL|      14|      1|      3|                  NULL|              2|        1|            1|                          1|                   3|              2|             NULL|          NULL|   11|         NULL|         NULL|          NULL|\n",
            "|         2|         2|            2|                2|                        2|             4|           NULL|      15|      2|      4|                  NULL|              2|        1|            1|                          1|                   3|              2|             NULL|          NULL|   11|         NULL|         NULL|          NULL|\n",
            "|         2|         2|            2|                2|                        2|             3|           NULL|      33|      2|      4|                  NULL|              2|        1|            1|                          1|                   3|              2|             NULL|          NULL|   11|         NULL|         NULL|          NULL|\n",
            "|         2|         2|            2|                2|                        2|             2|           NULL|      62|      1|      4|                  NULL|              2|        1|            1|                          1|                   3|              1|               19|             7|   11|         NULL|         NULL|          NULL|\n",
            "|         2|         2|            2|                2|                        2|             2|           NULL|      62|      2|      4|                  NULL|              2|        1|            1|                          1|                   3|              2|             NULL|          NULL|   11|         NULL|         NULL|          NULL|\n",
            "|         2|         2|            2|                2|                        2|             2|           NULL|      56|      2|      4|                  NULL|              2|        1|            1|                          1|                   3|              2|             NULL|          NULL|   11|         NULL|         NULL|          NULL|\n",
            "|         2|         2|            2|                2|                        2|             3|           NULL|      53|      1|      2|                  NULL|              2|        1|            1|                          1|                   3|              2|               18|             7|   11|         NULL|         NULL|          NULL|\n",
            "|         2|         2|            2|                2|                        2|             2|           NULL|      17|      2|      1|                  NULL|              2|        1|            1|                          1|                   3|              4|             NULL|          NULL|   11|         NULL|         NULL|          NULL|\n",
            "+----------+----------+-------------+-----------------+-------------------------+--------------+---------------+--------+-------+-------+----------------------+---------------+---------+-------------+---------------------------+--------------------+---------------+-----------------+--------------+-----+-------------+-------------+--------------+\n",
            "only showing top 20 rows\n",
            "\n"
          ]
        }
      ]
    },
    {
      "cell_type": "code",
      "source": [
        "spark = SparkSession.builder.appName(\"desafio\").getOrCreate()"
      ],
      "metadata": {
        "id": "xvY6S0F6pfpo"
      },
      "execution_count": null,
      "outputs": []
    },
    {
      "cell_type": "code",
      "source": [
        "df_set = spark.read \\\n",
        "     .option(\"header\", \"true\") \\\n",
        "     .option(\"inferSchema\", \"true\") \\\n",
        "     .csv(\"/content/PNAD_COVID_092020.csv\")\n"
      ],
      "metadata": {
        "id": "6JA4LywFq-jk"
      },
      "execution_count": null,
      "outputs": []
    },
    {
      "cell_type": "code",
      "source": [
        "\n",
        "df_out = spark.read \\\n",
        "     .option(\"header\", \"true\") \\\n",
        "     .option(\"inferSchema\", \"true\") \\\n",
        "     .csv(\"/content/PNAD_COVID_102020.csv\")"
      ],
      "metadata": {
        "id": "en7jVtrmvOpB"
      },
      "execution_count": null,
      "outputs": []
    },
    {
      "cell_type": "code",
      "source": [
        "df_nov = spark.read \\\n",
        "     .option(\"header\", \"true\") \\\n",
        "     .option(\"inferSchema\", \"true\") \\\n",
        "     .csv(\"/content/PNAD_COVID_112020.csv\")"
      ],
      "metadata": {
        "id": "gzLYqHWVvOYI"
      },
      "execution_count": null,
      "outputs": []
    },
    {
      "cell_type": "code",
      "source": [
        "df_set_renomeado = renomear_colunas(df_set)"
      ],
      "metadata": {
        "id": "VvNMljNfsXld"
      },
      "execution_count": null,
      "outputs": []
    },
    {
      "cell_type": "code",
      "source": [
        "df_out_renomeado = renomear_colunas(df_out)"
      ],
      "metadata": {
        "id": "xbtZUmSlsjjv"
      },
      "execution_count": null,
      "outputs": []
    },
    {
      "cell_type": "code",
      "source": [
        "df_nov_renomeado = renomear_colunas(df_nov)"
      ],
      "metadata": {
        "id": "z-VQaJAFvfI5"
      },
      "execution_count": null,
      "outputs": []
    },
    {
      "cell_type": "code",
      "source": [
        "df_set_reduzido = remover_colunas(df_set_renomeado)"
      ],
      "metadata": {
        "id": "GH-pqDarvhaC"
      },
      "execution_count": null,
      "outputs": []
    },
    {
      "cell_type": "code",
      "source": [
        "df_out_reduzido = remover_colunas(df_out_renomeado)"
      ],
      "metadata": {
        "id": "eCg3yUAMvk91"
      },
      "execution_count": null,
      "outputs": []
    },
    {
      "cell_type": "code",
      "source": [
        "df_nov_reduzido = remover_colunas(df_nov_renomeado)"
      ],
      "metadata": {
        "id": "KvBHeoFTvnnT"
      },
      "execution_count": null,
      "outputs": []
    },
    {
      "cell_type": "code",
      "source": [
        "df_unido = df_set_reduzido.union(df_out_reduzido).union(df_nov_reduzido)"
      ],
      "metadata": {
        "id": "yorG3Bjkvprd"
      },
      "execution_count": null,
      "outputs": []
    },
    {
      "cell_type": "code",
      "source": [
        "df_unido_positivos = df_unido.filter((F.col(\"positivo_swab\") == 1) | (F.col(\"positivo_furo\") == 1) | (F.col(\"positivo_braco\") == 1))"
      ],
      "metadata": {
        "id": "ooyNgOmnvwK-"
      },
      "execution_count": null,
      "outputs": []
    },
    {
      "cell_type": "code",
      "source": [
        "df_unido_positivos.count()"
      ],
      "metadata": {
        "colab": {
          "base_uri": "https://localhost:8080/"
        },
        "id": "TWsOOSp4v1yT",
        "outputId": "d0cc73ba-6f9e-4084-8788-1e0dbe1d9887"
      },
      "execution_count": null,
      "outputs": [
        {
          "output_type": "execute_result",
          "data": {
            "text/plain": [
              "32922"
            ]
          },
          "metadata": {},
          "execution_count": 17
        }
      ]
    },
    {
      "cell_type": "code",
      "source": [
        "df_procura_ativa_1 = df_unido.filter(\n",
        "    (F.col(\"teve_febre\") == 1) &\n",
        "    (F.col(\"teve_tosse\") == 1) &\n",
        "    (F.col(\"teve_garganta\") == 1) &\n",
        "    (F.col(\"teve_dif_respirar\") == 1) &\n",
        "    (F.col(\"teve_perda_olfato_paladar\") == 1) &\n",
        "    (F.col(\"procurou_Unidade_saude\") == 1))"
      ],
      "metadata": {
        "id": "UqBunPmfv33T"
      },
      "execution_count": null,
      "outputs": []
    },
    {
      "cell_type": "code",
      "source": [
        "df_procura_ativa_1.count()"
      ],
      "metadata": {
        "colab": {
          "base_uri": "https://localhost:8080/"
        },
        "id": "8lOotiPDws4T",
        "outputId": "f178a427-15d1-44b8-9cdf-53fda3270109"
      },
      "execution_count": null,
      "outputs": [
        {
          "output_type": "execute_result",
          "data": {
            "text/plain": [
              "672"
            ]
          },
          "metadata": {},
          "execution_count": 19
        }
      ]
    },
    {
      "cell_type": "code",
      "source": [
        "df_procura_ativa_2 = df_unido.filter(\n",
        "    (F.col(\"teve_febre\") == 1) &\n",
        "    (F.col(\"procurou_Unidade_saude\") == 1))"
      ],
      "metadata": {
        "id": "jXYmUdHj35GC"
      },
      "execution_count": null,
      "outputs": []
    },
    {
      "cell_type": "code",
      "source": [
        "df_procura_ativa_2.count()"
      ],
      "metadata": {
        "colab": {
          "base_uri": "https://localhost:8080/"
        },
        "id": "hWYoxDX74SHY",
        "outputId": "d6fe9f28-5ecd-4551-f390-5ccc06311f26"
      },
      "execution_count": null,
      "outputs": [
        {
          "output_type": "execute_result",
          "data": {
            "text/plain": [
              "4909"
            ]
          },
          "metadata": {},
          "execution_count": 21
        }
      ]
    },
    {
      "cell_type": "code",
      "source": [
        "df_procura_ativa_3 = df_unido.filter(\n",
        "    (F.col(\"teve_tosse\") == 1) &\n",
        "    (F.col(\"procurou_Unidade_saude\") == 1))"
      ],
      "metadata": {
        "id": "xtJ_ONyP3-X0"
      },
      "execution_count": null,
      "outputs": []
    },
    {
      "cell_type": "code",
      "source": [
        "df_procura_ativa_3.count()"
      ],
      "metadata": {
        "colab": {
          "base_uri": "https://localhost:8080/"
        },
        "id": "4PuUrRjK4Snk",
        "outputId": "850fd582-6876-4ab4-d849-66437cd916eb"
      },
      "execution_count": null,
      "outputs": [
        {
          "output_type": "execute_result",
          "data": {
            "text/plain": [
              "5488"
            ]
          },
          "metadata": {},
          "execution_count": 23
        }
      ]
    },
    {
      "cell_type": "code",
      "source": [
        "df_procura_ativa_4 = df_unido.filter(\n",
        "    (F.col(\"teve_garganta\") == 1) &\n",
        "    (F.col(\"procurou_Unidade_saude\") == 1))"
      ],
      "metadata": {
        "id": "1v9qnaPR4FJJ"
      },
      "execution_count": null,
      "outputs": []
    },
    {
      "cell_type": "code",
      "source": [
        "df_procura_ativa_4.count()"
      ],
      "metadata": {
        "colab": {
          "base_uri": "https://localhost:8080/"
        },
        "id": "E_9I7-XV4S_a",
        "outputId": "5b6700dc-70b0-46fa-dd2b-c154468762ec"
      },
      "execution_count": null,
      "outputs": [
        {
          "output_type": "execute_result",
          "data": {
            "text/plain": [
              "4828"
            ]
          },
          "metadata": {},
          "execution_count": 25
        }
      ]
    },
    {
      "cell_type": "code",
      "source": [
        "df_procura_ativa_5 = df_unido.filter(\n",
        "    (F.col(\"teve_dif_respirar\") == 1) &\n",
        "    (F.col(\"procurou_Unidade_saude\") == 1))"
      ],
      "metadata": {
        "id": "6THBgf6B4Ktc"
      },
      "execution_count": null,
      "outputs": []
    },
    {
      "cell_type": "code",
      "source": [
        "df_procura_ativa_5.count()"
      ],
      "metadata": {
        "colab": {
          "base_uri": "https://localhost:8080/"
        },
        "id": "YwFHy3sv4TXN",
        "outputId": "b21f7780-e9b9-4641-fdd3-7b2fdf51408f"
      },
      "execution_count": null,
      "outputs": [
        {
          "output_type": "execute_result",
          "data": {
            "text/plain": [
              "2574"
            ]
          },
          "metadata": {},
          "execution_count": 27
        }
      ]
    },
    {
      "cell_type": "code",
      "source": [
        "df_procura_ativa_6 = df_unido.filter(\n",
        "\n",
        "    (F.col(\"teve_perda_olfato_paladar\") == 1) &\n",
        "    (F.col(\"procurou_Unidade_saude\") == 1))"
      ],
      "metadata": {
        "id": "zEbULBCU4PUu"
      },
      "execution_count": null,
      "outputs": []
    },
    {
      "cell_type": "code",
      "source": [
        "df_procura_ativa_6.count()"
      ],
      "metadata": {
        "id": "0xqqGb524T0J"
      },
      "execution_count": null,
      "outputs": []
    },
    {
      "cell_type": "code",
      "source": [
        "df_procura_ativa = df_unido.filter(\n",
        "    (F.col(\"teve_febre\") == 1) &\n",
        "    (F.col(\"teve_tosse\") == 1) &\n",
        "    (F.col(\"teve_garganta\") == 1) &\n",
        "    (F.col(\"teve_dif_respirar\") == 1) &\n",
        "    (F.col(\"teve_perda_olfato_paladar\") == 1) &\n",
        "    (F.col(\"procurou_Unidade_saude\") == 2))"
      ],
      "metadata": {
        "id": "DxNARVf7xUfD"
      },
      "execution_count": null,
      "outputs": []
    },
    {
      "cell_type": "code",
      "source": [
        "df_procura_ativa.count()"
      ],
      "metadata": {
        "id": "mh5X77eeyLXq"
      },
      "execution_count": null,
      "outputs": []
    },
    {
      "cell_type": "code",
      "source": [
        "from pyspark.sql import functions as F"
      ],
      "metadata": {
        "id": "oCfgDIWDzgMH"
      },
      "execution_count": null,
      "outputs": []
    },
    {
      "cell_type": "code",
      "source": [
        "df_positivos_por_escolaridade = df_unido_positivos.groupBy(\"nm_escolaridade\").count()\n",
        "df_positivos_por_escolaridade.show()"
      ],
      "metadata": {
        "id": "992MoSzAzhWk"
      },
      "execution_count": null,
      "outputs": []
    },
    {
      "cell_type": "code",
      "source": [
        "df_escolaridade = df_positivos_por_escolaridade.withColumn(\n",
        "    \"nm_escolaridade\",\n",
        "    F.when(F.col(\"nm_escolaridade\") == 1, \"Sem instrução\")\n",
        "    .when(F.col(\"nm_escolaridade\") == 2, \"Fundamental incompleto\")\n",
        "    .when(F.col(\"nm_escolaridade\") == 3, \"Fundamental completo\")\n",
        "    .when(F.col(\"nm_escolaridade\") == 4, \"Médio incompleto\")\n",
        "    .when(F.col(\"nm_escolaridade\") == 5, \"Médio completo\")\n",
        "    .when(F.col(\"nm_escolaridade\") == 6, \"Superior incompleto\")\n",
        "    .when(F.col(\"nm_escolaridade\") == 7, \"Superior completo\")\n",
        "    .when(F.col(\"nm_escolaridade\") == 8, \"Pós-graduação\")\n",
        "    .otherwise(\"Desconhecido\"))"
      ],
      "metadata": {
        "id": "5u6cQcWUz-VA"
      },
      "execution_count": null,
      "outputs": []
    },
    {
      "cell_type": "code",
      "source": [
        "df_escolaridade.show()"
      ],
      "metadata": {
        "id": "wOXCcU7D0izM"
      },
      "execution_count": null,
      "outputs": []
    },
    {
      "cell_type": "code",
      "source": [
        "from pyspark.sql import functions as F\n",
        "\n",
        "\n",
        "total_entrevistados_por_escolaridade = df_unido.groupBy(\"nm_escolaridade\").count()\n",
        "\n",
        "\n",
        "total_entrevistados_por_escolaridade = total_entrevistados_por_escolaridade.withColumn(\n",
        "    \"nm_escolaridade\",\n",
        "    F.when(F.col(\"nm_escolaridade\") == 1, \"Sem instrução\")\n",
        "    .when(F.col(\"nm_escolaridade\") == 2, \"Fundamental incompleto\")\n",
        "    .when(F.col(\"nm_escolaridade\") == 3, \"Fundamental completo\")\n",
        "    .when(F.col(\"nm_escolaridade\") == 4, \"Médio incompleto\")\n",
        "    .when(F.col(\"nm_escolaridade\") == 5, \"Médio completo\")\n",
        "    .when(F.col(\"nm_escolaridade\") == 6, \"Superior incompleto\")\n",
        "    .when(F.col(\"nm_escolaridade\") == 7, \"Superior completo\")\n",
        "    .when(F.col(\"nm_escolaridade\") == 8, \"Pós-graduação\")\n",
        "    .otherwise(\"Desconhecido\"))\n",
        "\n",
        "\n",
        "total_entrevistados_por_escolaridade.show()\n"
      ],
      "metadata": {
        "id": "-2bngh5g1Ng0"
      },
      "execution_count": null,
      "outputs": []
    },
    {
      "cell_type": "code",
      "source": [
        "df_procura_ativa = df_unido.filter(F.col(\"procurou_Unidade_saude\") == 2)\n",
        "\n",
        "\n",
        "df_procura_escolaridade = df_procura_ativa.groupBy(\"nm_escolaridade\").count()\n",
        "\n",
        "df_procura_escolaridade.show()\n"
      ],
      "metadata": {
        "id": "7_oa8yuc24jP"
      },
      "execution_count": null,
      "outputs": []
    },
    {
      "cell_type": "code",
      "source": [
        "df_procura_escolaridade-procura_ativa = df_unido.filter(\n",
        "    when(F.col(\"nm_escolaridade\") == 1) / and(F.col(\"procurou_Unidade_saude\") == 2))\n",
        "    when(F.col(\"nm_escolaridade\") == 2) / and(F.col(\"procurou_Unidade_saude\") == 2))\n",
        "    when(F.col(\"nm_escolaridade\") == 3) / and(F.col(\"procurou_Unidade_saude\") == 2))\n",
        "    when(F.col(\"nm_escolaridade\") == 4) / and(F.col(\"procurou_Unidade_saude\") == 2))\n",
        "    when(F.col(\"nm_escolaridade\") == 5) / and(F.col(\"procurou_Unidade_saude\") == 2))\n",
        "    when(F.col(\"nm_escolaridade\") == 6) /and(F.col(\"procurou_Unidade_saude\") == 2))\n",
        "    when(F.col(\"nm_escolaridade\") == 7) /and(F.col(\"procurou_Unidade_saude\") == 2))\n",
        "    when(F.col(\"nm_escolaridade\") == 8) /and(F.col(\"procurou_Unidade_saude\") == 2))\n",
        "    and(F.col(\"procurou_Unidade_saude\") == 2))count"
      ],
      "metadata": {
        "id": "qOaO4jvY2EiO"
      },
      "execution_count": null,
      "outputs": []
    },
    {
      "cell_type": "code",
      "source": [
        "\n",
        "df_emprestimo_ativa = df_unido.filter(F.col(\"solicitou_emprestimo\") == 2)\n",
        "\n",
        "\n",
        "df_procura_escolaridade_emprestimo = df_emprestimo_ativa.groupBy(\"nm_escolaridade\").count()\n",
        "\n",
        "\n",
        "df_procura_escolaridade_emprestimo.show()\n",
        "\n",
        "\n"
      ],
      "metadata": {
        "id": "W7enPUWGyNCs"
      },
      "execution_count": null,
      "outputs": []
    },
    {
      "cell_type": "code",
      "source": [
        "df_unido_positivos_emprestimo = df_unido.filter(\n",
        "    ((F.col(\"positivo_swab\") == 1) |\n",
        "    (F.col(\"positivo_furo\") == 1) |\n",
        "    (F.col(\"positivo_braco\") == 1)) &\n",
        "    (F.col(\"solicitou_emprestimo\") == 2)\n",
        ")\n",
        "\n",
        "df_unido_positivos_emprestimo.count()\n"
      ],
      "metadata": {
        "id": "SQdKZthoywE5"
      },
      "execution_count": null,
      "outputs": []
    },
    {
      "cell_type": "code",
      "source": [
        "total_emprestimos = df.filter(F.col(\"solicitou_emprestimo\") == 2).count()\n",
        "print(\"Total de pessoas que solicitaram empréstimo:\", total_emprestimos)\n"
      ],
      "metadata": {
        "id": "Yk7OfK-f8NHY"
      },
      "execution_count": null,
      "outputs": []
    },
    {
      "cell_type": "code",
      "source": [
        "from pyspark.sql import functions as F\n",
        "\n",
        "# Filtrar os dados para obter apenas aqueles que testaram positivo\n",
        "df_positivos = df_unido.filter(\n",
        "    (F.col(\"positivo_swab\") == 1) |\n",
        "    (F.col(\"positivo_furo\") == 1) |\n",
        "    (F.col(\"positivo_braco\") == 1)\n",
        ")\n",
        "\n",
        "# Agrupar por medida_contato e contar\n",
        "df_medida_contato_positivos = df_positivos.groupBy(\"medida_contato\").count()\n",
        "\n",
        "# Adicionar as descrições das medidas de contato\n",
        "df_medida_contato_positivos = df_medida_contato_positivos.withColumn(\n",
        "    \"descricao_medida_contato\",\n",
        "    F.when(F.col(\"medida_contato\") == 1, \"Não fez restrição\")\n",
        "    .when(F.col(\"medida_contato\") == 2, \"Reduziu o contato com as pessoas, mas continuou saindo de casa para trabalho\")\n",
        "    .when(F.col(\"medida_contato\") == 3, \"Ficou em casa e só saiu em caso de necessidade básica\")\n",
        "    .when(F.col(\"medida_contato\") == 4, \"Ficou rigorosamente em casa\")\n",
        "    .otherwise(\"Desconhecido\")\n",
        ")\n",
        "\n",
        "# Ordenar os resultados em ordem crescente com base na medida de contato\n",
        "df_medida_contato_positivos = df_medida_contato_positivos.orderBy(F.asc(\"medida_contato\"))\n",
        "\n",
        "# Mostrar os resultados\n",
        "df_medida_contato_positivos.select(\"medida_contato\", \"descricao_medida_contato\", \"count\").show(truncate=False)\n",
        "\n"
      ],
      "metadata": {
        "id": "Pu6crIRx9GnK"
      },
      "execution_count": null,
      "outputs": []
    },
    {
      "cell_type": "code",
      "source": [
        "df_positivos = df_unido.filter(\n",
        "    (F.col(\"positivo_swab\") == 1) |\n",
        "    (F.col(\"positivo_furo\") == 1) |\n",
        "    (F.col(\"positivo_braco\") == 1)\n",
        ")\n",
        "\n",
        "df_itens_higiene_positivos = df_positivos.groupBy(\"itens_higiene\").count()\n",
        "\n",
        "df_itens_higiene_positivos.show(truncate=False)\n"
      ],
      "metadata": {
        "id": "XqwL93VP_qxF"
      },
      "execution_count": null,
      "outputs": []
    },
    {
      "cell_type": "code",
      "source": [
        "from pyspark.sql import functions as F\n",
        "\n",
        "# Filtrar os dados para obter apenas aqueles que testaram positivo\n",
        "df_positivos = df_unido.filter(\n",
        "    (F.col(\"positivo_swab\") == 1) |\n",
        "    (F.col(\"positivo_furo\") == 1) |\n",
        "    (F.col(\"positivo_braco\") == 1)\n",
        ")\n",
        "\n",
        "# Filtrar os positivos que receberam auxílio emergencial\n",
        "df_positivos_auxilio = df_positivos.filter(F.col(\"recebeu_auxilio_emergencial\") == 1)\n",
        "\n",
        "# Agrupar por escolaridade e contar\n",
        "df_auxilio_escolaridade = df_positivos_auxilio.groupBy(\"nm_escolaridade\").count()\n",
        "\n",
        "# Adicionar as descrições das escolaridades\n",
        "df_auxilio_escolaridade = df_auxilio_escolaridade.withColumn(\n",
        "    \"descricao_escolaridade\",\n",
        "    F.when(F.col(\"nm_escolaridade\") == 1, \"Sem instrução\")\n",
        "    .when(F.col(\"nm_escolaridade\") == 2, \"Fundamental incompleto\")\n",
        "    .when(F.col(\"nm_escolaridade\") == 3, \"Fundamental completo\")\n",
        "    .when(F.col(\"nm_escolaridade\") == 4, \"Médio incompleto\")\n",
        "    .when(F.col(\"nm_escolaridade\") == 5, \"Médio completo\")\n",
        "    .when(F.col(\"nm_escolaridade\") == 6, \"Superior incompleto\")\n",
        "    .when(F.col(\"nm_escolaridade\") == 7, \"Superior completo\")\n",
        "    .when(F.col(\"nm_escolaridade\") == 8, \"Pós-graduação\")\n",
        "    .otherwise(\"Desconhecido\")\n",
        ")\n",
        "\n",
        "# Mostrar os resultados\n",
        "df_auxilio_escolaridade.select(\"nm_escolaridade\", \"descricao_escolaridade\", \"count\").show(truncate=False)\n"
      ],
      "metadata": {
        "id": "ECAxC5HNBQpT"
      },
      "execution_count": null,
      "outputs": []
    },
    {
      "cell_type": "code",
      "source": [],
      "metadata": {
        "id": "gD_5nOXYB88I"
      },
      "execution_count": null,
      "outputs": []
    }
  ]
}